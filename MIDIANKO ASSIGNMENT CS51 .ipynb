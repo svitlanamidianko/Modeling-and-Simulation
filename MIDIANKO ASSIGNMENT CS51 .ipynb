{
 "cells": [
  {
   "cell_type": "markdown",
   "metadata": {},
   "source": [
    "# CS51 TEST ASSSIGNMENT #2\n",
    "\n",
    "_by Svitlana Midianko (summer intern, M22)_\n",
    "<br>\n",
    "_August 2019_\n",
    "<br>\n",
    "_time needed for completion: "
   ]
  },
  {
   "cell_type": "markdown",
   "metadata": {},
   "source": [
    "## Guidelines: \n",
    "[link to assignment](https://docs.google.com/document/d/13jTcw_9jgmY2AH3eAbWqnC9B911TmbSK0hb6MluEClI/edit#)\n",
    "- Complete this in full, pretending like it's a real assignment. We'd like to see some actual example submissions, so yes, please do it fully. It doesn't have to be done super well... no grades 🙂 \n",
    "- Please make note of the comments in the google doc. For example, we may consider using your answers to the first question as models (models about models!) to provide for the students to help them get an idea for what we want. Use a fake disease (one that students could not copy directly).\n",
    "- Don't look too much at the suggested word counts, and just answer based on what you think is reasonable. This will help us estimate appropriate word limits.\n",
    "- Please keep track of how long, in hours, the entire assignment took you to complete. It will take longer given that you haven't learned SIR before.\n",
    "- Respond to outstanding comments in the document with your opinion when relevant.\n",
    "- Add comments or suggestions in places where you think the instructions are not clear.\n",
    "- If you want, think of a few more fun and relevant optional challenge questions if you wish."
   ]
  },
  {
   "cell_type": "markdown",
   "metadata": {},
   "source": [
    "---"
   ]
  },
  {
   "cell_type": "markdown",
   "metadata": {},
   "source": [
    "# Part 1: SIR Model of Infectious Disease Spread\n",
    "The SIR model of the spread of disease is commonly used to help understand how a disease might move through a population. Read the following documents to learn more about the SIR model: \n",
    "\n",
    "- An accessible youtube video introduction to the SIR model: https://www.youtube.com/watch?v=XWXqXzAYe4E\n",
    "- A paper that describes the SIR model and its numerical simulation: http://op12no2.me/stuff/tjsir.pdf\n",
    "- A series of educational lessons on the SIR model: https://www.maa.org/press/periodicals/loci/joma/the-sir-model-for-spread-of-disease-the-differential-equation-model\n",
    "\n",
    "For this assignment, you will select one disease of your choice to model. Examples of diseases to consider include the flu (influenza), Ebola, smallpox, HIV, and malaria. You need to select an infectious disease (one that is transmitted from person to person through a viral, bacterial, or parasitic agent), not a genetic or environmental disease. \n"
   ]
  },
  {
   "cell_type": "markdown",
   "metadata": {},
   "source": [
    "---\n",
    "## 1.1 Numerical Modeling and Simulation\n",
    "\n",
    "A. Numerical Modeling: Describe the disease you select to model and explain how you will set up the model of disease dynamics as a set of differential equations. Identify the relevant variables and explain what they mean in the context of your model. Explain how to select appropriate values for the parameters. Be sure to use empirical data where possible, and to justify your estimations. You may also complete a well-reasoned estimation for any values that are difficult to justify with empirical data. Explain any assumptions of your model. [#modeling, #variables, and #estimation (if applicable)]\n"
   ]
  },
  {
   "cell_type": "markdown",
   "metadata": {},
   "source": [
    "---\n",
    "### SHORT OVERVIEW \n",
    "- Disease name: *YUDARLA*\n",
    "- Set of differential equations: \n",
    "$$\\frac{dS}{dt} = -b * S(t) * I(t)              $$                    (1)\n",
    "$$\\frac{dI}{dt} = b * S(t) * I(t) - k * I(t) $$            (2)\n",
    "$$\\frac{dR}{dt} = k * I(t)$$              (3)\n",
    "- Relevant variable: \n",
    "    - *S = S(t)    → number of susceptible individuals at a given time (t);*\n",
    "    - *I = I(t)    → number of infected individuals at a given time (t);*\n",
    "    - *R = R(t) → number of recovered individuals at a given time (t);*\n",
    "    - *N → whole population*\n",
    "    - *$\\frac{dS}{dt}$ → instanteneous rate of change in suspectible population;*\n",
    "    - *$\\frac{dI}{dt}$ → instanteneous rate of change in infected population;*\n",
    "    - *$\\frac{dR}{dt}$ → instanteneous rate of change in removed population;*\n",
    "    - *b = a fraction of S who become I (S → I) after meeting the infected people;* \n",
    "    - *k = a fraction of I who become R (I → R) (recovery rate).*\n",
    "\n",
    "\n",
    "### DESCRIPTION \n",
    "#### General\n",
    "The goal of the model is to observe the dynamics progress of epidemics, look for patterns of model stability. \n",
    "<br>\n",
    "<br>\n",
    "#### Why differential equations are appropriate\n",
    "For modelling this time-ranging behaviour, one should use differential equations, which, if solved, give one a solution in the form of formulas showing the _continuous change_ of each population's category. Since the term instantaneous is hard to model because it requires the tiniest fraction of time, $\\frac{dS}{dt}$ represents the _best const approximation for a rate of change_ at a given time. Same applies for  $\\frac{dI}{dt}$ and  $\\frac{dR}{dt}$. If modelled, these variables would represent the slope of the _tangent line_ at a given moment $t$. \n",
    "<br>\n",
    "<br>\n",
    "#### Present constant variables \n",
    "Another constant variable is $b$, that is infection rate. How high this value depends on the severity of the disease and how easy transmittable the disease is.\n",
    "<br>\n",
    "<br>\n",
    "Another constant variable is $k$, that is the recovery rate. It indicates how quickly the population becomes either immune or dies because of the disease, thus is not able to spread and affect susceptibles.\n"
   ]
  },
  {
   "cell_type": "markdown",
   "metadata": {},
   "source": [
    "#### Strategy for selecting appropriate values for parameters \n",
    "<br>\n",
    "<br>\n",
    "By looking at Fake National YUDARLA Stats Center, one can notice the following facts which affect the value we set for  $k$ and $b$. \n",
    "\n",
    "* A fraction of people who were born before 1954 (are aged 65+ right now) received lifelong immunity from Yudarla due to the present at that time vaccination policy. According to the World Bank Data and Statistics summary compiled by H. Pletcher (2019, June 25th), the fraction of people at such age is ~15% in the US population (footnote #1);\n",
    "<br>\n",
    "* Only a small number (~0.01%) of people were initially affected;\n",
    "<br>\n",
    "* The recovery rate is 1 to 100 because of a poorl medicince policy regarding to _new_ emergency epidemics, thus $k = 0.01$;\n",
    "<br>\n",
    "* Since it is an ariborne disease (which is easier to spread), the infection rate is assumed to be around $b = 0.3$ (Fake National YUDARLA Stats Center, 2019). "
   ]
  },
  {
   "cell_type": "markdown",
   "metadata": {},
   "source": [
    "#### Assumptions\n",
    "1. There is no birth, immigration, emigration, brain drain, thus $N = const$ (fixed);\n",
    "<br>\n",
    "2. The member of the population mix homogeneously, thus every $S$ has an equal chance of becoming $I$;\n",
    "<br>\n",
    "2.1. Thus, age, sex, social status, and race or any other factors do not affect the probability of being infected.\n",
    "    <br>\n",
    "    2.2. Thus, $b = const$ (thought our epidemic process).\n",
    "    <br>\n",
    "3. The only way a person $S$ can leave his group is to become $I$;\n",
    "<br>\n",
    "4. The only way a person $I$ can leave his group is to become $R$;\n",
    "<br>\n",
    "5. Once a person has $R$, the person received lifelong immunity (or dies, thus is not able to spread the disease);\n",
    "<br>\n",
    "6. Everyone born before 1954 received vaccination, thus is in $R$ group.\n",
    "<br>\n",
    "<br>\n",
    "\n",
    "<font color='grey'>[footnote #1] Plecher H. (2019, June 25th). _Age distribution in the United States from 2007 to 2017_. Retrieved August 12, 2019 from [https://www.statista.com/statistics/270000/age-distribution-in-the-united-states/](https://www.statista.com/statistics/270000/age-distribution-in-the-united-states/)</font> \n",
    "\n",
    "<font color='grey'>Fake National YUDARLA Stats Center. (2019). _Some Stats_. Retrieved August 12, 2019 from https://still_some_fake_stats</font> "
   ]
  },
  {
   "cell_type": "markdown",
   "metadata": {},
   "source": [
    "**B. Numerical Simulation: Implement a numerical simulation to derive the implications of your model using Euler’s method in Python. Be sure to thoroughly document your code. [#algorithms]**"
   ]
  },
  {
   "cell_type": "code",
   "execution_count": 1,
   "metadata": {},
   "outputs": [
    {
     "name": "stdout",
     "output_type": "stream",
     "text": [
      "10\n"
     ]
    }
   ],
   "source": [
    "#  Determining the initial conditions\n",
    "N = 100000 #whole pop (arbitrary number)\n",
    "i = int(N * 0.0001) # ~0.01 of the whole population according to strategy\n",
    "r = int(N * 0.15) #0.15 of the whole popualtion according to strategy\n",
    "s = int(N - i - r) #just the left population\n",
    "print(i)\n",
    "#Note: Fractions also could be used. \n",
    "#_If N = whole population, then $S/N$, $I/N$, $R/N$ represent \n",
    "#the fractions of susceptible, infected, and recovered population respectively. \n",
    "#Since we intend to build a dynamic simulation representing progress, both fractions and absolute numbers may be used._"
   ]
  },
  {
   "cell_type": "code",
   "execution_count": 2,
   "metadata": {},
   "outputs": [],
   "source": [
    "import matplotlib.pyplot as plt #this will be used to create a plot\n",
    "import numpy as np #library that allows us store the values in arrays \n",
    "#setting initial parameters\n",
    "b = 0.3\n",
    "k = 0.01"
   ]
  },
  {
   "cell_type": "code",
   "execution_count": 3,
   "metadata": {},
   "outputs": [
    {
     "name": "stdout",
     "output_type": "stream",
     "text": [
      "The initial population of infected is: 10.0\n",
      "The initial population of removed is:   15000.0\n",
      "The initial population of suspectibles is:   84990.0\n"
     ]
    }
   ],
   "source": [
    "h = 0.00001\n",
    "time_interval = np.arange(0, 365, h) #we create an array of time and it will be in range 0-90, the 'tick' time \n",
    "#would be 'tick' with the interval of h, which is step size for numerical solutions approximation; \n",
    "\n",
    "infected = np.empty_like(time_interval) #we create an array which will have the same length as our time data. \n",
    "removed = np.empty_like(time_interval)\n",
    "suspectibles = np.empty_like(time_interval)\n",
    "\n",
    "#changing the initial values of all the lists to the earlier defined population sizes\n",
    "infected[0] = i \n",
    "removed[0] = r\n",
    "suspectibles[0] = s\n",
    "\n",
    "#printing our initial values\n",
    "print('The initial population of infected is:', infected[0])\n",
    "print('The initial population of removed is:  ', removed[0])\n",
    "print('The initial population of suspectibles is:  ', suspectibles[0])"
   ]
  },
  {
   "cell_type": "code",
   "execution_count": 4,
   "metadata": {},
   "outputs": [],
   "source": [
    "for i in range(1, len(time_interval)): #we will iterate with the help of loop over the values of created np array \n",
    "    #How many times? The number of iterations is equal to the number of time ticks we have. \n",
    "    #That is we want to know what were specific population sizes at\n",
    "    #that certain time tick\n",
    "\n",
    "    infected[i] = infected[i - 1] + h * b * suspectibles[i - 1] * infected[i - 1] - h * k * infected[i - 1]\n",
    "    removed[i] = removed[i - 1] + h * k * infected[i - 1]\n",
    "    suspectibles[i] = suspectibles[i - 1] - h * b * suspectibles[i-1] * infected[i - 1]\n",
    "    #we are saying: take that empty value from that created array and now we will update it with a new value.\n",
    "    #what is a new value? this value is derived from the tangent line of a previous point, thus we have [i-1] as \n",
    "    #index on the right side of equation.\n"
   ]
  },
  {
   "cell_type": "markdown",
   "metadata": {},
   "source": [
    "**Optional Challenge: Modify your code to add a layer of real-world complexity, such as: a) Vaccination; b) Antibiotic use and/or development of antibiotic resistance; c) Variability in population susceptibility (eg. children and the elderly have different rates of infection compared to young adults).**\n",
    "\n"
   ]
  },
  {
   "cell_type": "code",
   "execution_count": null,
   "metadata": {},
   "outputs": [],
   "source": []
  },
  {
   "cell_type": "markdown",
   "metadata": {},
   "source": [
    "C. Visualization: Create at least one relevant visualization of the disease dynamics [#dataviz]\n",
    "\n",
    "\n"
   ]
  },
  {
   "cell_type": "code",
   "execution_count": 5,
   "metadata": {},
   "outputs": [
    {
     "data": {
      "image/png": "[encoded data removed]",
      "text/plain": [
       "<Figure size 432x288 with 1 Axes>"
      ]
     },
     "metadata": {
      "needs_background": "light"
     },
     "output_type": "display_data"
    },
    {
     "name": "stdout",
     "output_type": "stream",
     "text": [
      "The final population of infected is: 2209\n",
      "The final population of suspectibles is: 0\n",
      "The final population of removed is: 97790\n"
     ]
    }
   ],
   "source": [
    "plt.title(\"SIR model for YUDARLA disease\") #seeting up the title\n",
    "plt.plot(time_interval, infected, color = 'red', label = 'Infected') #so, plot on x axis values of np.array of time and \n",
    "#on the y axis values from np.array of infected \n",
    "plt.plot(time_interval, removed, color = 'blue', label = 'Removed')# same\n",
    "plt.plot(time_interval, suspectibles, color = 'green', label = 'Suspectibles')# same\n",
    "plt.xlabel('Time (time units)') #and label the axes\n",
    "plt.ylabel('Population of Removed, Suspectibles, and Infected people')\n",
    "plt.grid() \n",
    "plt.legend(loc='upper left')\n",
    "plt.show()\n",
    "print('The final population of infected is:', int(infected[-1]))\n",
    "print('The final population of suspectibles is:', int(suspectibles[-1]))\n",
    "print('The final population of removed is:', int(removed[-1]))\n",
    "\n"
   ]
  },
  {
   "cell_type": "markdown",
   "metadata": {},
   "source": [
    "D. Interpretation: Describe how the numerical simulation can be interpreted. What insights can be gained from this simulation? What limitations does this simulation have? \n",
    "\n",
    "\n",
    "\n"
   ]
  },
  {
   "cell_type": "markdown",
   "metadata": {},
   "source": [
    "Numerical simulation shows how population sizes of each category change with each _h_ move (which can also be perceived as _dt_ from the above set of differential equations). One can notice the decreasing number of infected people and increasing number of removed, which might lead us to a conclusion that the model will eventually approach its stable stage. \n",
    "<br>\n",
    "<br> \n",
    "The limitations of this model include: \n",
    "1. _incorrect_ jump that the number of infected does at the beginning;\n",
    "2. oversimplification_  as according to the assumptions,  thus it does not represent the _complex_ reality;\n",
    "<br>\n",
    "2.1. Besides, it assumes that people meet each other at the same rate, although closed networks might be present. \n",
    "<br>\n",
    "2.2. does not take into account a different immune system level of people (some people may exercise more and be more immune to disease)\n",
    "3. it does not take into account the possible vaccination or medical cure progress and assumes that doctors cure people (or that people die) at the same constant rate throughout the whole period; \n",
    "4. does not take into account potential noise events, e.g. the potential deterioration of the disease spread if doctors do not do something properly (in this case, the change in number Infected will increase)."
   ]
  },
  {
   "cell_type": "markdown",
   "metadata": {},
   "source": [
    "\n",
    "E. Model vs Simulation: What is the relationship between the SIR model differential equations and the numerical simulation you created? How are the model and simulation similar and in what ways are they distinct? You may consider, for example, whether the model and simulation are continuous or discrete. [#modeling, #algorithms] \n",
    "\n",
    "\n"
   ]
  },
  {
   "cell_type": "markdown",
   "metadata": {},
   "source": [
    "The set of differential equations and its solution functions would provide us with the _continuous_ answer of population dynamics at some small instant moment. Since estimating tangent lines is hardly possible in such time constraint, one used Eulers' method for _approximating_ the solution functions. Thus, the numerical simulation is a _discrete_ approximation of the solution functions.  The numerical approach can be applied and sufficient since one is interested in _approximating_ the disease dynamics and not looking at the _exact_ numbers of population's category. \n",
    "What is more, a numerical approach might often be more algorithmically efficient since the lower computing power is needed. Oftentimes the goal of such models simulations is to see whether the steady-state is possible to achieve and in such case both simulation san model would give us the same result. Also, important to note that both models and simulations are deterministic, because of homogeneous interaction (infection rate) and const variable inputs and recovery rates. "
   ]
  },
  {
   "cell_type": "markdown",
   "metadata": {},
   "source": [
    "## 1.2 Agent-Based Modeling and Simulation\n",
    "\n",
    "F. Agent-Based Modeling: Using the NetLogo Virus model from EA NS50 12.2 (http://ccl.northwestern.edu/netlogo/models/Virus), model the disease of your choice. Justify your variable and parameter choices. Describe the assumptions of this model. [#modeling, #variables] Word count suggestion: 200 words\n",
    "\n",
    "\n",
    "---\n"
   ]
  },
  {
   "cell_type": "markdown",
   "metadata": {},
   "source": [
    "**Variables and parameters justification:**\n",
    "<br> \n",
    "Since in our model, we had 0.01% of infected people and since in NetLogo this parameter is set to the const initial value of 10, we will make population the highest possible to approach our models' values as close as possible.\n",
    "<br> \n",
    "_The infectiousness rate_ is set to 30% as according to YUDARLA Statistics (date, author). Same applies to _revocery rate,_ which is set to 1%. The choice of parameters values was justified in part 1.1. \n",
    "<br> \n",
    "A new parameter, which is _duration of the disease_ is present in Netlogo model. According to Fake YUDARLA stats centre (date), the average duration of the disease one year (approximately 52 weeks).\n",
    "<br> \n",
    "\n",
    "\n",
    "\n",
    "**Assumptions of NetLogo model:**\n",
    "1. NetLogo assumes the limited capacity of the population, that is the is a threshold to possible living creatures present at some time. \n",
    "2. _suspectible_ offsprings are born, thus the population size changed depending on the number of healthy individuals present tat some time; \n",
    "- secure immunity is set to only one year, and which makes the results of the NetLogo model so different as there is now a higher chance of population being infected \n",
    "3. No initial immune population is assumed as opposed to our model in which people aged 65+ are immune and vaccinated\n",
    "4. Reproduction rate is 1%, thus it makes it possible to overall populations sizes to change over time because new _suspectible_ offsprings are born."
   ]
  },
  {
   "cell_type": "markdown",
   "metadata": {},
   "source": [
    "G. Agent-Based Simulation: Using the NetLogo Virus program, run a simulation of the disease dynamics described by your model. Describe the algorithm that the NetLogo program uses for the simulation [#algorithms]\n",
    "- Optional Challenge: Create your own agent-based simulation of the disease dynamics for your chosen disease in Python. You may add in real-world complexities as desired (vaccination, antibiotic use and/or development of antibiotic resistance, variability in population susceptibility). Hints: One option: a tree graph can be useful in modeling person-to-person interactions. Another option: turtles.\n",
    "\n",
    "\n",
    "---"
   ]
  },
  {
   "cell_type": "markdown",
   "metadata": {},
   "source": [
    "_**Iterative non-recursive algorithm**_\n",
    "<br>\n",
    "Looking at Information of this virus model, one can see the NetLogo-programmed code behind this simulation. We can see objects _turtles-own_ created which stores all the needed info about one purpose, that is boolean value on whether the turtle is sick if there is remaining immunity, a period of being sick, and age. That is why NetLogo is considered to be _agent-based modeling_ as it consists of manu agents (turltes) each having its attributes. \n",
    "<br> \n",
    "<br> \n",
    "The _globals_ variables include six variables, two of which are set to fixed values by default program (chance-reproduce and carrying capacity) and two of which are set by the user before running the simulation and two of which (% infected and %immune) are changing throughout the whole simulation. \n",
    "<br> \n",
    "<br> \n",
    "Then the are four defined procedures which correspond to a) set up button (x2); b) update of globals;c) update of the display. Then the conditional statements defined checking conditions of the state of each object (turtle) and determining its future SIR state depending on the attribute' values. It looks like the algorithm iterates over the objects every time checking the attribute values of each turtle and then updating the global variables. "
   ]
  },
  {
   "cell_type": "markdown",
   "metadata": {},
   "source": [
    "H. Agent-Based Model Visualization: Select at least one informative visualization of the disease dynamics, describing why this is an informative choice for a visualization. [#dataviz]\n",
    "\n",
    "---\n",
    "\n",
    "\n"
   ]
  },
  {
   "cell_type": "markdown",
   "metadata": {},
   "source": [
    "![image](NETLOGOsir.png)"
   ]
  },
  {
   "cell_type": "markdown",
   "metadata": {},
   "source": [
    "Here one can see a decreasing overall population because of the vast _outbreak_ at the beginning of the disease period. Because of such high infectiousness rate (30%), low recovery rate (1%), small immunity period (1 year), and low reproduction rate (1%), one can see that population is dying out because the number of healthy people cannot keep up  reproducing and being healthy for a long time. It is important to note that the numbers in this simulation can only be interpreted as absolute numbers (not fractions as opposed in the numerical above model) because of the changing global population size. "
   ]
  },
  {
   "cell_type": "markdown",
   "metadata": {},
   "source": [
    "I. Agent-Based Model Interpretation: Describe how the numerical simulation can be interpreted. What insights can be gained from this simulation? What limitations does this simulation have? [#modeling] Word count suggestion: 200 words\n",
    "\n",
    "---\n"
   ]
  },
  {
   "cell_type": "markdown",
   "metadata": {},
   "source": [
    "Overall, the NetLogo model is good at showing us the whole picture and dynamics of the epidemic. A good feature about this model is that it is stockastic, thus allows some random _heterogneous_ interaciton bewteen the agents. It also displays the ration of infected and immume populations. \n",
    "<br> \n",
    "<br> \n",
    "Although it still has its limitations, such as: \n",
    "- no noise exists -> which means'ceteris paribus'(all the other variables are const), which is hardly possible in the real life; \n",
    "- limited capacity; \n",
    "- does not take into account othe rpossible death causes and overall complex nature of the reality. "
   ]
  },
  {
   "cell_type": "markdown",
   "metadata": {},
   "source": [
    "J. Simulation Comparison: Compare and contrast the numerical simulation you wrote above with the NetLogo virus simulation. Based on all of the above analysis, what are the biggest differences between these simulations, and which one is a more realistic representation of nature? Why? Be sure to address whether these are stochastic or deterministic simulations and to consider the results.\n",
    "\n",
    "---"
   ]
  },
  {
   "cell_type": "markdown",
   "metadata": {},
   "source": [
    "**#Levels of analysis**\n",
    "<br> \n",
    "Important to note that above numerical model displays cyclical fluctuations between agents by specifying relationsips between them. That is, one can see the picture of the _aggregate, whole_ level, and is unable to infer anyconclusions about individualist's behavior. As opposed to the NetLogo model which specifies concrete(simple) rules for each agent (therefore, it is considered to be ABM). This simplicity because of underlying mechanisms for the behavior of agents and their interactions between the agents results in an overallcomplex picture. Thus the model let one infer conclusions about the phenomenon at two different levels:individualistic and aggregate, which offers more feedback to the creator. \n",
    "<br>\n",
    "<br>\n",
    "**Assumptions and resulting differences**\n",
    "<br>\n",
    "The main difference lies in the nature of the environment. For example, introduction of the grass in NL limitsthe growth of population. Also, the random movements of the animals result in more unstable and lesspredictable model. Reality of the models As for me, the NetLogo is more realistic as it also provides us with the reproduction rates  (thus alloves the whole pipualtion to fluctate). Also, it includes some randomness in itself as objects move and meet randomly, as it often happens in real world. What is more, it shows the individual behavior of specific agents and thus gives us an opportunity to add more agents if needed for better reality replication."
   ]
  },
  {
   "cell_type": "markdown",
   "metadata": {},
   "source": [
    "---"
   ]
  },
  {
   "cell_type": "markdown",
   "metadata": {},
   "source": [
    "# Part 2: Optimization\n",
    "\n",
    "For this section of the assignment, you will select one of two scenarios to describe how to optimize. \n",
    "<br>\n",
    "<br>\n",
    "_Scenario 1: You have learned that a new vaccine has been created that will prevent infection from the disease you are modeling. You will describe how to determine the optimal vaccination rate in the population. This is a new vaccine that is extremely difficult and expensive to produce and distribute. Include a well-justified cost function in your model._\n",
    "<br>\n",
    "<br>\n",
    "Hints (optimal vaccination rate): You may do some research on vaccination rates to help create a realistic model, but your assignment will be scored on the merits of the optimization procedure itself, not your knowledge of vaccines or public policy. Possible considerations include:\n",
    "- Not everyone can be vaccinated (young children, the elderly, people who are immunocompromised)\n",
    "- The vaccine is expensive to produce and distribute (you should justify your cost function)\n",
    "- Optional: some populations have low vaccination rates because of resistance to vaccination for various reasons. You may integrate this concept into your model.\n",
    "- Can you think of any other important factors?\n",
    "<br>\n",
    "\n"
   ]
  },
  {
   "cell_type": "markdown",
   "metadata": {},
   "source": [
    "K. Modeling: Describe the optimization problem in your model: what is the objective function? What are the decision variables? Describe how your objective function could be considered in terms of utility. [#optimization, #modeling, #variables, #utility]"
   ]
  },
  {
   "cell_type": "markdown",
   "metadata": {},
   "source": [
    "The goal is to maximize the number of Removed (R) people in society. We will assume that the government has set a certain budget available for both vaccination and treatment of infected people. \n",
    "<br>\n",
    "<br>\n",
    "**Decision variables**\n",
    "- v -- vaccination rate\n",
    "    - thus, $(1-v)$ --  rate of unvaccinated people \n",
    "- cv -- the cost of vaccination per person\n",
    "- ci -- the cost of treating one infected person\n",
    "- I -- the number of infected people at a certain time \n",
    "- S -- the number of susceptible people at a certain time _who agreed and are eligible for vaccination_ \n",
    "- S` -- the number of susceptible people at a certain time _who did not agree for vaccination_ \n",
    "- R -- the number of removed people at a certain time\n",
    "\n",
    "**Contant variables**\n",
    "<br> \n",
    "- BT -- overall budget available for treatment\n",
    "- BV - overall budget available for vaccination \n",
    "<br>"
   ]
  },
  {
   "cell_type": "markdown",
   "metadata": {},
   "source": [
    "**Objective function**\n",
    "<br> \n",
    "$f(v, R, I, S`, S) =  R + ci * I * S` + v * S -> max$\n",
    "<br> \n",
    "as a subject to the following **constraints:**\n",
    "<br>\n",
    "$ci * I <= BT$\n",
    "<br> \n",
    "$v * S <= BV$\n",
    "<br> \n",
    "$v * S <= available vaccination$\n",
    "<br> \n",
    "\n",
    "_Important to note that both $ci$ and $v$ can also be broken down to more variables. For instance, $ci$ might include: a) cost of having a person in the hospital; b) cost of specific medicine; c) constraint on the amount available medicine._ \n",
    "\n",
    "\n",
    " \n",
    "Another factor that a government may consider and which would depend on _#ethicalframing_ of this particular nation is how profitable it is for government to cure the infected people. As M. Sandel stated in one of this lecture, sometimes government may profit from particular population dying (this is an evil scenario, but still might be hypothetically considered). \n",
    "<br> \n",
    "For instance, if people who are infected by Yudarla are mainly unproductive old population (or people who do not follow a healthy lifestyle), then the government may benefit from this category of population die out, since they won't need to pay retirement subsidies to them. This would be considered as a utilitarian approach for maximizing the overall GDP of the nation.  In such a case, one would have to break down the suspective population (S) to the categories, which are employable and unemployable people. Also, in such a case, the estimated profit will be the objective fo the function. One would subtract the cost if treating infected people/giving vaccination from the estimated income revenue that might be generated by these people. \n",
    "\n",
    "<font color='grey'>[footnote #2] Sandel M. (2014, July 1st). _Justice with Michael Sandel_ [Video-file]. Retrived August 20, 2019 from [https://www.youtube.com/playlist?list=PL30C13C91CFFEFEA6](https://www.youtube.com/playlist?list=PL30C13C91CFFEFEA6)</font> \n",
    "\n",
    "\n"
   ]
  },
  {
   "cell_type": "markdown",
   "metadata": {},
   "source": [
    "\n",
    "L. Optimization: Describe the process by which you would determine the optimal vaccination level in the population OR the optimal vaccine parameters. Define an algorithm that could be used to complete this process, including the inputs, outputs, and list of required steps. (Hint: Some possible optimization algorithms that could be appropriate for this optimization problem were discussed in class sessions). Draw a flow chart to illustrate the process. Address whether your algorithm would lead to the global optimum. [#optimization, #algorithms, #modeling]\n",
    "<br> \n",
    "\n",
    "\n",
    "\n",
    "\n"
   ]
  },
  {
   "cell_type": "markdown",
   "metadata": {},
   "source": [
    "We will use iterative and anytime alrogithm, menaing that algorithm can be stopped any time and will still produce the best result avaioable at that moment.\n",
    "![flow](flow.png)"
   ]
  },
  {
   "cell_type": "markdown",
   "metadata": {},
   "source": [
    "In our case, the input variables are $R, I, S, S`, ci, v$. The value that will be updated with each iteration is $v$. We want to increment $v$ with the tiniest fraction possible so that we don't miss possible global maximum. The output and most important variable in our case is $max R$, which is also the objective of our function. If the small incremental changes happen to v and we have enough computing power, then the global maximum might be reached. Also, the iteration will be running only while the contrains are satisfied and until the maximum vaccination rate is achivedd (1.0)."
   ]
  },
  {
   "cell_type": "markdown",
   "metadata": {},
   "source": [
    "- Optional Challenge: Create a program in python to complete this optimization process to determine the optimal vaccination rate. [#algorithms, #optimization]"
   ]
  },
  {
   "cell_type": "code",
   "execution_count": null,
   "metadata": {},
   "outputs": [],
   "source": []
  },
  {
   "cell_type": "markdown",
   "metadata": {},
   "source": [
    "\n",
    "M. Interpretation: Describe how the results of the optimization could be interpreted. What are the limitations of these interpretations? [#modeling, #optimization]\n",
    "\n"
   ]
  },
  {
   "cell_type": "markdown",
   "metadata": {},
   "source": [
    "The results would give us the optimal vaccination rate for _the simplified version of reality_ that we created. It is important to note that in the complex reality, the variables would be affected by external noise, thus global variable might be achieved only _in theory_ while thinking ceteris paribus about anything else."
   ]
  },
  {
   "cell_type": "markdown",
   "metadata": {},
   "source": [
    "---"
   ]
  },
  {
   "cell_type": "markdown",
   "metadata": {},
   "source": [
    "# Reflection\n",
    "\n",
    "Describe how you obtained the knowledge to complete the assignment, being sure to include attributions to specific individuals or groups who helped you and how they helped. You should elaborate on any strategies you used to assess your own understanding of the material. [#selfawareness] (<100 words)\n"
   ]
  },
  {
   "cell_type": "markdown",
   "metadata": {},
   "source": [
    "There were no significant contributions from external individuals, besides my mom who was bringning me tea. Although, it is important to note that the notes from the previous year sessions AND HCs main points were extremely beneficial for retriving the concepts. The strategies I used through the process were: a) self-explanation and elaborative interrogation, that isexplaining out loud (to imagined five-year-old girl) what specific parameter, function or method does. This way I was able to find existing knowledge gaps and bring the difficulty of this assignment to a simpler level because of the use of simple language; b) for optimization problem, thinking as a computer first, that is going step by stepthrough the loop and being deterministic (f.g. follow only functions) and non-flexible machine. Also, for the first part, generating pseudocode first helped me understand the underlying mechanismx of the solution."
   ]
  },
  {
   "cell_type": "markdown",
   "metadata": {},
   "source": [
    "You must upload two files:\n",
    "A zipped folder containing the .ipynb file, data file, and any other relevant files needed to run the code.\n",
    "A PDF of your entire assignment. Run all cells before converting the notebook to a PDF, and double check to make sure that the PDF is complete with all sections visible. Email attachments will not be accepted. If you’re having difficulty converting your notebook to a PDF, try the tips available here.\n"
   ]
  }
 ],
 "metadata": {
  "kernelspec": {
   "display_name": "Python 3",
   "language": "python",
   "name": "python3"
  },
  "language_info": {
   "codemirror_mode": {
    "name": "ipython",
    "version": 3
   },
   "file_extension": ".py",
   "mimetype": "text/x-python",
   "name": "python",
   "nbconvert_exporter": "python",
   "pygments_lexer": "ipython3",
   "version": "3.7.3"
  }
 },
 "nbformat": 4,
 "nbformat_minor": 2
}
